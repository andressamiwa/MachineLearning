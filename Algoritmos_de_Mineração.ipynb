{
  "nbformat": 4,
  "nbformat_minor": 0,
  "metadata": {
    "colab": {
      "name": "Algoritmos_de_Mineração.ipynb",
      "provenance": [],
      "collapsed_sections": [],
      "authorship_tag": "ABX9TyPb37xnX3jmUBoRAUcFR6Lw",
      "include_colab_link": true
    },
    "kernelspec": {
      "name": "python3",
      "display_name": "Python 3"
    }
  },
  "cells": [
    {
      "cell_type": "markdown",
      "metadata": {
        "id": "view-in-github",
        "colab_type": "text"
      },
      "source": [
        "<a href=\"https://colab.research.google.com/github/andressamiwa/MachineLearning/blob/master/Algoritmos_de_Minera%C3%A7%C3%A3o.ipynb\" target=\"_parent\"><img src=\"https://colab.research.google.com/assets/colab-badge.svg\" alt=\"Open In Colab\"/></a>"
      ]
    },
    {
      "cell_type": "markdown",
      "metadata": {
        "id": "Q5S-lWzg-D4-",
        "colab_type": "text"
      },
      "source": [
        "Comparação de modelos de algoritmos de predição|\n",
        "Exemplo de algoritmo não supervisionado utilizando o K-Means"
      ]
    },
    {
      "cell_type": "code",
      "metadata": {
        "id": "eof20EsvSrNw",
        "colab_type": "code",
        "colab": {}
      },
      "source": [
        "#importando bibliotecas\n",
        "from pandas import DataFrame \n",
        "import matplotlib.pyplot as plt"
      ],
      "execution_count": 1,
      "outputs": []
    },
    {
      "cell_type": "code",
      "metadata": {
        "id": "HtzCUF4B-T8O",
        "colab_type": "code",
        "colab": {}
      },
      "source": [
        "#criando conjunto de dados\n",
        "dados = {'x':[25,34,22,27,33,33,31,22,35,34,67,54,57,43,50,57,43,52,68,54,35,87,45,23,8,4,35,1,76,54],\n",
        "         'y':[79,51,53,78,59,74,45,7,12,4,67,45,76,56,56,34,21,67,4,3,56,78,21,45,87,56,3,12,43,56]}"
      ],
      "execution_count": 2,
      "outputs": []
    },
    {
      "cell_type": "code",
      "metadata": {
        "id": "NMxdE39j-6y3",
        "colab_type": "code",
        "colab": {
          "base_uri": "https://localhost:8080/",
          "height": 119
        },
        "outputId": "3adf0c30-64cb-4b00-8a72-a04d720cd3cf"
      },
      "source": [
        "#criando o dataframe\n",
        "df = DataFrame(dados,columns=['x','y'])\n",
        "print(df.head())"
      ],
      "execution_count": 3,
      "outputs": [
        {
          "output_type": "stream",
          "text": [
            "    x   y\n",
            "0  25  79\n",
            "1  34  51\n",
            "2  22  53\n",
            "3  27  78\n",
            "4  33  59\n"
          ],
          "name": "stdout"
        }
      ]
    },
    {
      "cell_type": "code",
      "metadata": {
        "id": "JOWB0IZUArnU",
        "colab_type": "code",
        "colab": {}
      },
      "source": [
        "#biblioteca para construir o algoritmo\n",
        "from sklearn.cluster import KMeans"
      ],
      "execution_count": 4,
      "outputs": []
    },
    {
      "cell_type": "code",
      "metadata": {
        "id": "gyTRGJ_vArxn",
        "colab_type": "code",
        "colab": {
          "base_uri": "https://localhost:8080/",
          "height": 51
        },
        "outputId": "c0d7aaba-4e24-49cd-c221-edf8d8bea585"
      },
      "source": [
        "kmeans = KMeans(n_clusters=2) #encontra dois clusters\n",
        "kmeans.fit(df) #aplica o algoritmo\n",
        "centroids = kmeans.cluster_centers_ #encontra as coordenadas dos centroides\n",
        "print(centroids)"
      ],
      "execution_count": 5,
      "outputs": [
        {
          "output_type": "stream",
          "text": [
            "[[40.75 61.35]\n",
            " [39.4  12.1 ]]\n"
          ],
          "name": "stdout"
        }
      ]
    },
    {
      "cell_type": "code",
      "metadata": {
        "id": "UTAXENw0AsEe",
        "colab_type": "code",
        "colab": {
          "base_uri": "https://localhost:8080/",
          "height": 296
        },
        "outputId": "80e7cd4a-dbc1-4f1e-ac8d-f860aeec49aa"
      },
      "source": [
        "#aplicando vizualizacao do gráfico de saida\n",
        "plt.scatter(df['x'],df['y'],c=kmeans.labels_.astype(float),s=50,alpha=0.5)\n",
        "plt.scatter(centroids[:,0],centroids[:,1],c='red',s=50)\n",
        "plt.xlabel(\"X\")\n",
        "plt.ylabel(\"Y\")"
      ],
      "execution_count": 6,
      "outputs": [
        {
          "output_type": "execute_result",
          "data": {
            "text/plain": [
              "Text(0, 0.5, 'Y')"
            ]
          },
          "metadata": {
            "tags": []
          },
          "execution_count": 6
        },
        {
          "output_type": "display_data",
          "data": {
            "image/png": "[encoded data removed]",
            "text/plain": [
              "<Figure size 432x288 with 1 Axes>"
            ]
          },
          "metadata": {
            "tags": [],
            "needs_background": "light"
          }
        }
      ]
    },
    {
      "cell_type": "markdown",
      "metadata": {
        "id": "MygPXuGb3sGD",
        "colab_type": "text"
      },
      "source": [
        "Exemplo de algoritmo supervisionado-KNN"
      ]
    },
    {
      "cell_type": "code",
      "metadata": {
        "id": "zT_HRxc8AruT",
        "colab_type": "code",
        "colab": {}
      },
      "source": [
        "#bibliotecas para implementacao do modelo KNN\n",
        "import pylab as pl #utilizado para plotar os gráficos\n",
        "from sklearn import neighbors,datasets\n",
        "import pandas as pd\n",
        "import numpy as np"
      ],
      "execution_count": 7,
      "outputs": []
    },
    {
      "cell_type": "code",
      "metadata": {
        "id": "M7RKCU7lArgn",
        "colab_type": "code",
        "colab": {}
      },
      "source": [
        "#criando a rotina para utilizar o dataset iris\n",
        "iris = datasets.load_iris()"
      ],
      "execution_count": 8,
      "outputs": []
    },
    {
      "cell_type": "code",
      "metadata": {
        "id": "QNOZNR2eDpqS",
        "colab_type": "code",
        "colab": {}
      },
      "source": [
        "df_iris = pd.DataFrame(data = np.c_[iris['data'],iris['target']],\n",
        "                       columns=iris['feature_names']+['target'])"
      ],
      "execution_count": 9,
      "outputs": []
    },
    {
      "cell_type": "code",
      "metadata": {
        "id": "rFJB25JsDpwj",
        "colab_type": "code",
        "colab": {
          "base_uri": "https://localhost:8080/",
          "height": 153
        },
        "outputId": "61262b91-b7ef-4593-cac2-e21be1fec9d8"
      },
      "source": [
        "print(df_iris.head())"
      ],
      "execution_count": 10,
      "outputs": [
        {
          "output_type": "stream",
          "text": [
            "   sepal length (cm)  sepal width (cm)  ...  petal width (cm)  target\n",
            "0                5.1               3.5  ...               0.2     0.0\n",
            "1                4.9               3.0  ...               0.2     0.0\n",
            "2                4.7               3.2  ...               0.2     0.0\n",
            "3                4.6               3.1  ...               0.2     0.0\n",
            "4                5.0               3.6  ...               0.2     0.0\n",
            "\n",
            "[5 rows x 5 columns]\n"
          ],
          "name": "stdout"
        }
      ]
    },
    {
      "cell_type": "code",
      "metadata": {
        "id": "IgWcgbMhDpZV",
        "colab_type": "code",
        "colab": {}
      },
      "source": [
        "#transformando os dados em array\n",
        "X = df_iris.iloc[:,:-1].values #dados de entrada\n",
        "y = df_iris.iloc[:,4].values #saidas ou targets"
      ],
      "execution_count": 11,
      "outputs": []
    },
    {
      "cell_type": "code",
      "metadata": {
        "id": "PeH_Q7jNDpV7",
        "colab_type": "code",
        "colab": {}
      },
      "source": [
        "#dividindo os dados em treinamento e teste\n",
        "from sklearn.model_selection import train_test_split #funcao que realiza a divisao do dataset\n",
        "X_train,X_test,y_train,y_test=train_test_split(X,y,test_size = 0.2) #apenas 20% dos meus dados para teste\n"
      ],
      "execution_count": 12,
      "outputs": []
    },
    {
      "cell_type": "code",
      "metadata": {
        "id": "DoCJCTrBEheY",
        "colab_type": "code",
        "colab": {}
      },
      "source": [
        "#realizacao da normalizacao dos dados\n",
        "from sklearn.preprocessing import StandardScaler\n",
        "scaler = StandardScaler()\n",
        "scaler.fit(X_train)\n",
        "X_train=scaler.transform(X_train)\n",
        "x_test = scaler.transform(X_test)"
      ],
      "execution_count": 13,
      "outputs": []
    },
    {
      "cell_type": "code",
      "metadata": {
        "id": "B88XOzWzEha-",
        "colab_type": "code",
        "colab": {
          "base_uri": "https://localhost:8080/",
          "height": 68
        },
        "outputId": "cd347102-aed1-4c03-9001-960b240b5b19"
      },
      "source": [
        "#treinando o modelo\n",
        "from sklearn.neighbors import KNeighborsClassifier\n",
        "classifier = KNeighborsClassifier(n_neighbors = 5)\n",
        "classifier.fit(X_train,y_train)"
      ],
      "execution_count": 14,
      "outputs": [
        {
          "output_type": "execute_result",
          "data": {
            "text/plain": [
              "KNeighborsClassifier(algorithm='auto', leaf_size=30, metric='minkowski',\n",
              "                     metric_params=None, n_jobs=None, n_neighbors=5, p=2,\n",
              "                     weights='uniform')"
            ]
          },
          "metadata": {
            "tags": []
          },
          "execution_count": 14
        }
      ]
    },
    {
      "cell_type": "code",
      "metadata": {
        "id": "9ZrvxT9N6xFN",
        "colab_type": "code",
        "colab": {}
      },
      "source": [
        "#realizando a predição\n",
        "y_pred = classifier.predict(X_test)"
      ],
      "execution_count": 15,
      "outputs": []
    },
    {
      "cell_type": "code",
      "metadata": {
        "id": "7yAoLNhH6xi5",
        "colab_type": "code",
        "colab": {
          "base_uri": "https://localhost:8080/",
          "height": 292
        },
        "outputId": "5253a5d2-bad8-4cfe-8245-11c2c22437a3"
      },
      "source": [
        "#construindo a matriz de confusao para analisar o modelo criado\n",
        "from sklearn.metrics import classification_report,confusion_matrix\n",
        "print(confusion_matrix(y_test,y_pred))\n",
        "print(classification_report(y_test,y_pred))"
      ],
      "execution_count": 16,
      "outputs": [
        {
          "output_type": "stream",
          "text": [
            "[[ 0  0 10]\n",
            " [ 0  0 13]\n",
            " [ 0  0  7]]\n",
            "              precision    recall  f1-score   support\n",
            "\n",
            "         0.0       0.00      0.00      0.00        10\n",
            "         1.0       0.00      0.00      0.00        13\n",
            "         2.0       0.23      1.00      0.38         7\n",
            "\n",
            "    accuracy                           0.23        30\n",
            "   macro avg       0.08      0.33      0.13        30\n",
            "weighted avg       0.05      0.23      0.09        30\n",
            "\n"
          ],
          "name": "stdout"
        },
        {
          "output_type": "stream",
          "text": [
            "/usr/local/lib/python3.6/dist-packages/sklearn/metrics/_classification.py:1272: UndefinedMetricWarning: Precision and F-score are ill-defined and being set to 0.0 in labels with no predicted samples. Use `zero_division` parameter to control this behavior.\n",
            "  _warn_prf(average, modifier, msg_start, len(result))\n"
          ],
          "name": "stderr"
        }
      ]
    },
    {
      "cell_type": "code",
      "metadata": {
        "id": "Ci2dCTym6xmx",
        "colab_type": "code",
        "colab": {
          "base_uri": "https://localhost:8080/",
          "height": 279
        },
        "outputId": "8a6f6d95-3b34-4ab7-c0a5-9322317fc531"
      },
      "source": [
        "#plotando a matriz de confusao\n",
        "matriz_confusao=confusion_matrix(y_test,y_pred)\n",
        "from mlxtend.plotting import plot_confusion_matrix\n",
        "fig,ax = plot_confusion_matrix(conf_mat=matriz_confusao)\n",
        "plt.show()"
      ],
      "execution_count": 17,
      "outputs": [
        {
          "output_type": "display_data",
          "data": {
            "image/png": "[encoded data removed]",
            "text/plain": [
              "<Figure size 432x288 with 1 Axes>"
            ]
          },
          "metadata": {
            "tags": [],
            "needs_background": "light"
          }
        }
      ]
    },
    {
      "cell_type": "markdown",
      "metadata": {
        "id": "XY8cmqoP_uLp",
        "colab_type": "text"
      },
      "source": [
        "Exemplo de algoritmo supervisionado - Árvore de decisão"
      ]
    },
    {
      "cell_type": "code",
      "metadata": {
        "id": "KHH8VOgt6xqM",
        "colab_type": "code",
        "colab": {}
      },
      "source": [
        "from sklearn.tree import DecisionTreeClassifier\n",
        "from sklearn import metrics"
      ],
      "execution_count": 18,
      "outputs": []
    },
    {
      "cell_type": "code",
      "metadata": {
        "id": "ilnak5ge6x2q",
        "colab_type": "code",
        "colab": {}
      },
      "source": [
        "clf = DecisionTreeClassifier()\n",
        "#realiza o treinamento do modelo\n",
        "clf.fit(X_train,y_train)\n",
        "#previsao do classificador\n",
        "pred = clf.predict(X_test)"
      ],
      "execution_count": 20,
      "outputs": []
    },
    {
      "cell_type": "code",
      "metadata": {
        "id": "ubQ8-nab_8HA",
        "colab_type": "code",
        "colab": {
          "base_uri": "https://localhost:8080/",
          "height": 279
        },
        "outputId": "8739bfc0-dfe1-4a46-8f0b-640b4d2f96cc"
      },
      "source": [
        "#plotando a matriz de confusao\n",
        "matriz_confusao=confusion_matrix(y_test,y_pred)\n",
        "from mlxtend.plotting import plot_confusion_matrix\n",
        "fig,ax = plot_confusion_matrix(conf_mat=matriz_confusao)\n",
        "plt.show()"
      ],
      "execution_count": 21,
      "outputs": [
        {
          "output_type": "display_data",
          "data": {
            "image/png": "[encoded data removed]",
            "text/plain": [
              "<Figure size 432x288 with 1 Axes>"
            ]
          },
          "metadata": {
            "tags": [],
            "needs_background": "light"
          }
        }
      ]
    },
    {
      "cell_type": "code",
      "metadata": {
        "id": "VGBG7QwK_8MS",
        "colab_type": "code",
        "colab": {}
      },
      "source": [
        "#vizualizacao da arvore de decisao\n",
        "from sklearn.tree import export_graphviz\n",
        "from sklearn.externals.six import StringIO\n",
        "from IPython.display import Image\n",
        "import pydotplus"
      ],
      "execution_count": 22,
      "outputs": []
    },
    {
      "cell_type": "code",
      "metadata": {
        "id": "YON8nm26_8PO",
        "colab_type": "code",
        "colab": {}
      },
      "source": [
        "#importa a arvore de decisao para o DB iris\n",
        "dot_data = StringIO\n",
        "export_graphviz(clf,out_file=dot_data,\n",
        "                filled=True,rounded=True,\n",
        "                special_characters=True,feature_names=iris.feature_names,class_names=['0','1','2'])\n",
        "graph = pydotplus.graph_from_dot_data(dot_data.getvalue())\n",
        "graph.write_png('iris.png')\n",
        "Image(graph.create_png())"
      ],
      "execution_count": null,
      "outputs": []
    },
    {
      "cell_type": "markdown",
      "metadata": {
        "id": "rC4bwmYNGsN9",
        "colab_type": "text"
      },
      "source": [
        "Exemplo de algoritmo SUpervisionado - SVM"
      ]
    },
    {
      "cell_type": "code",
      "metadata": {
        "id": "E_uR7FkA_8Sd",
        "colab_type": "code",
        "colab": {}
      },
      "source": [
        "from sklearn.svm import SVC"
      ],
      "execution_count": 27,
      "outputs": []
    },
    {
      "cell_type": "code",
      "metadata": {
        "id": "VX8bmipA_8Vy",
        "colab_type": "code",
        "colab": {}
      },
      "source": [
        "clf = SVC(gamma='auto') "
      ],
      "execution_count": 28,
      "outputs": []
    },
    {
      "cell_type": "code",
      "metadata": {
        "id": "_kE49cKEG7Vi",
        "colab_type": "code",
        "colab": {
          "base_uri": "https://localhost:8080/",
          "height": 85
        },
        "outputId": "b5be7164-f928-485b-9703-9eeaace36ed4"
      },
      "source": [
        "clf.fit(X_train,y_train)"
      ],
      "execution_count": 29,
      "outputs": [
        {
          "output_type": "execute_result",
          "data": {
            "text/plain": [
              "SVC(C=1.0, break_ties=False, cache_size=200, class_weight=None, coef0=0.0,\n",
              "    decision_function_shape='ovr', degree=3, gamma='auto', kernel='rbf',\n",
              "    max_iter=-1, probability=False, random_state=None, shrinking=True,\n",
              "    tol=0.001, verbose=False)"
            ]
          },
          "metadata": {
            "tags": []
          },
          "execution_count": 29
        }
      ]
    },
    {
      "cell_type": "code",
      "metadata": {
        "id": "5M6-tCg3G7ZB",
        "colab_type": "code",
        "colab": {}
      },
      "source": [
        "y_pred = clf.predict(X_test)"
      ],
      "execution_count": 30,
      "outputs": []
    },
    {
      "cell_type": "code",
      "metadata": {
        "id": "wGY5DtAzG7cR",
        "colab_type": "code",
        "colab": {
          "base_uri": "https://localhost:8080/",
          "height": 279
        },
        "outputId": "b3e591d4-d68a-4269-c070-f7e278232a61"
      },
      "source": [
        "#plotando a matriz de confusao\n",
        "matriz_confusao=confusion_matrix(y_test,y_pred)\n",
        "from mlxtend.plotting import plot_confusion_matrix\n",
        "fig,ax = plot_confusion_matrix(conf_mat=matriz_confusao)\n",
        "plt.show()"
      ],
      "execution_count": 31,
      "outputs": [
        {
          "output_type": "display_data",
          "data": {
            "image/png": "[encoded data removed]",
            "text/plain": [
              "<Figure size 432x288 with 1 Axes>"
            ]
          },
          "metadata": {
            "tags": [],
            "needs_background": "light"
          }
        }
      ]
    },
    {
      "cell_type": "markdown",
      "metadata": {
        "id": "ptloGvpJHiRk",
        "colab_type": "text"
      },
      "source": [
        "Exemplo com rede neurais"
      ]
    },
    {
      "cell_type": "code",
      "metadata": {
        "id": "TyVw0J9CHcSJ",
        "colab_type": "code",
        "colab": {}
      },
      "source": [
        "from sklearn.neural_network import MLPClassifier"
      ],
      "execution_count": 32,
      "outputs": []
    },
    {
      "cell_type": "code",
      "metadata": {
        "id": "7XiGvhIiHcfT",
        "colab_type": "code",
        "colab": {}
      },
      "source": [
        "#define a configuração da rede\n",
        "clf = MLPClassifier(solver = 'lbfgs',alpha=1e-5,hidden_layer_sizes=(5,5),random_state=1)"
      ],
      "execution_count": 34,
      "outputs": []
    },
    {
      "cell_type": "code",
      "metadata": {
        "id": "Zdc9zOaxIJT2",
        "colab_type": "code",
        "colab": {
          "base_uri": "https://localhost:8080/",
          "height": 153
        },
        "outputId": "5833a3a5-06c5-4ff8-fb90-8e8efe3afc1e"
      },
      "source": [
        "clf.fit(X_train,y_train)"
      ],
      "execution_count": 35,
      "outputs": [
        {
          "output_type": "execute_result",
          "data": {
            "text/plain": [
              "MLPClassifier(activation='relu', alpha=1e-05, batch_size='auto', beta_1=0.9,\n",
              "              beta_2=0.999, early_stopping=False, epsilon=1e-08,\n",
              "              hidden_layer_sizes=(5, 5), learning_rate='constant',\n",
              "              learning_rate_init=0.001, max_fun=15000, max_iter=200,\n",
              "              momentum=0.9, n_iter_no_change=10, nesterovs_momentum=True,\n",
              "              power_t=0.5, random_state=1, shuffle=True, solver='lbfgs',\n",
              "              tol=0.0001, validation_fraction=0.1, verbose=False,\n",
              "              warm_start=False)"
            ]
          },
          "metadata": {
            "tags": []
          },
          "execution_count": 35
        }
      ]
    },
    {
      "cell_type": "code",
      "metadata": {
        "id": "87ikIovfI0lc",
        "colab_type": "code",
        "colab": {}
      },
      "source": [
        "y_pred = clf.predict(X_test)"
      ],
      "execution_count": 36,
      "outputs": []
    },
    {
      "cell_type": "code",
      "metadata": {
        "id": "SBqJ9vktHcip",
        "colab_type": "code",
        "colab": {
          "base_uri": "https://localhost:8080/",
          "height": 279
        },
        "outputId": "904046ae-b939-4b87-ce93-1bfe1651f6e9"
      },
      "source": [
        "#plotando a matriz de confusao\n",
        "matriz_confusao=confusion_matrix(y_test,y_pred)\n",
        "from mlxtend.plotting import plot_confusion_matrix\n",
        "fig,ax = plot_confusion_matrix(conf_mat=matriz_confusao)\n",
        "plt.show()"
      ],
      "execution_count": 37,
      "outputs": [
        {
          "output_type": "display_data",
          "data": {
            "image/png": "[encoded data removed]",
            "text/plain": [
              "<Figure size 432x288 with 1 Axes>"
            ]
          },
          "metadata": {
            "tags": [],
            "needs_background": "light"
          }
        }
      ]
    }
  ]
}