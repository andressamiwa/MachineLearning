{
  "nbformat": 4,
  "nbformat_minor": 0,
  "metadata": {
    "colab": {
      "name": "Classificacao_singleLabel.ipynb",
      "provenance": [],
      "collapsed_sections": []
    },
    "kernelspec": {
      "name": "python3",
      "display_name": "Python 3"
    }
  },
  "cells": [
    {
      "cell_type": "code",
      "metadata": {
        "id": "5dLnxYO4Qrz1",
        "colab_type": "code",
        "colab": {}
      },
      "source": [
        "#Modulo3\n",
        "#Classificacao single label\n",
        "#utilizando o dataset wine do scikitlearn"
      ],
      "execution_count": null,
      "outputs": []
    },
    {
      "cell_type": "code",
      "metadata": {
        "id": "Hb6ft4IDQ5-C",
        "colab_type": "code",
        "colab": {}
      },
      "source": [
        "#importando o dataset\n",
        "from sklearn.datasets import load_wine\n",
        "data = load_wine()"
      ],
      "execution_count": 1,
      "outputs": []
    },
    {
      "cell_type": "code",
      "metadata": {
        "id": "l7DmHD-0Q6A8",
        "colab_type": "code",
        "colab": {}
      },
      "source": [
        "#acessando os dados\n",
        "X = data.data[:,:] \n",
        "y = data.target #apresenta as classes "
      ],
      "execution_count": 2,
      "outputs": []
    },
    {
      "cell_type": "code",
      "metadata": {
        "id": "fGCPoB4OQ6FJ",
        "colab_type": "code",
        "colab": {}
      },
      "source": [
        "#separacao dos dados para treinamento e teste do algoritmo\n",
        "from sklearn.model_selection import train_test_split\n",
        "X_train,X_test,y_train,y_test = train_test_split(X,y,test_size = 0.33, random_state = 42)"
      ],
      "execution_count": 3,
      "outputs": []
    },
    {
      "cell_type": "code",
      "metadata": {
        "id": "xyNj91h6Q6HN",
        "colab_type": "code",
        "colab": {}
      },
      "source": [
        "#utilizando o algoritmo Random Forests\n",
        "#treinamento do modelo\n",
        "from sklearn.ensemble import RandomForestClassifier\n",
        "#instanciando o modelo\n",
        "rfc = RandomForestClassifier()\n",
        "rfc.fit(X_train,y_train)\n",
        "rfc_ypred = rfc.predict(X_test)"
      ],
      "execution_count": 4,
      "outputs": []
    },
    {
      "cell_type": "code",
      "metadata": {
        "id": "QKL7pBrXQ6KZ",
        "colab_type": "code",
        "colab": {}
      },
      "source": [
        "#metricas de qualidade \n",
        "#accuracy, recall, precision\n",
        "from sklearn.metrics import accuracy_score,recall_score,precision_score\n",
        "rfc_accuracy = round(accuracy_score(y_test,rfc_ypred),4)\n",
        "rfc_recall = round(recall_score(y_test,rfc_ypred,average='weighted'),4)\n",
        "rfc_precision = round(precision_score(y_test,rfc_ypred,average = 'weighted'),4)"
      ],
      "execution_count": 8,
      "outputs": []
    },
    {
      "cell_type": "code",
      "metadata": {
        "id": "cDcNwienQ6Nw",
        "colab_type": "code",
        "colab": {}
      },
      "source": [
        "#utilizando o algoritmo KNN\n",
        "from sklearn.neighbors import KNeighborsClassifier\n",
        "knn = KNeighborsClassifier(n_neighbors=3)\n",
        "knn.fit(X_train,y_train)\n",
        "knn_ypred = knn.predict(X_test)"
      ],
      "execution_count": 11,
      "outputs": []
    },
    {
      "cell_type": "code",
      "metadata": {
        "id": "2RU5R8SDV0G6",
        "colab_type": "code",
        "colab": {}
      },
      "source": [
        "#metricas de qualidade\n",
        "knn_accuracy = round(accuracy_score(y_test,knn_ypred),4)\n",
        "knn_recall = round(recall_score(y_test,knn_ypred,average = 'weighted'),4)\n",
        "knn_precision = round(precision_score(y_test,knn_ypred,average = 'weighted'),4)"
      ],
      "execution_count": 13,
      "outputs": []
    },
    {
      "cell_type": "code",
      "metadata": {
        "id": "zGBBiYbHV0Kh",
        "colab_type": "code",
        "colab": {
          "base_uri": "https://localhost:8080/",
          "height": 102
        },
        "outputId": "c1b01858-1e87-49e7-b7b6-1d20c8098619"
      },
      "source": [
        "#apresentacao dos resultados\n",
        "print(\"Random Forest x KNN\")\n",
        "print(\"Classes: {}\".format(data.target_names))\n",
        "print(\"Acurácia: {} x {}\".format(rfc_accuracy,knn_accuracy))\n",
        "print(\"Recall: {} x {}\".format(rfc_recall,knn_recall))\n",
        "print(\"Precisão: {} x {}\".format(rfc_precision,knn_precision))"
      ],
      "execution_count": 15,
      "outputs": [
        {
          "output_type": "stream",
          "text": [
            "Random Forest x KNN\n",
            "Classes: ['class_0' 'class_1' 'class_2']\n",
            "Acurácia: 1.0 x 0.6949\n",
            "Recall: 1.0 x 0.6949\n",
            "Precisão: 1.0 x 0.6982\n"
          ],
          "name": "stdout"
        }
      ]
    }
  ]
}