{
  "nbformat": 4,
  "nbformat_minor": 0,
  "metadata": {
    "colab": {
      "name": "Classificacao_singleLabel.ipynb",
      "provenance": [],
      "collapsed_sections": []
    },
    "kernelspec": {
      "name": "python3",
      "display_name": "Python 3"
    }
  },
  "cells": [
    {
      "cell_type": "code",
      "metadata": {
        "id": "5dLnxYO4Qrz1",
        "colab_type": "code",
        "colab": {}
      },
      "source": [
        "#Modulo3\n",
        "#Classificacao single label\n",
        "#utilizando o dataset wine do scikitlearn\n",
        "#validacao cruzada"
      ],
      "execution_count": null,
      "outputs": []
    },
    {
      "cell_type": "code",
      "metadata": {
        "id": "Hb6ft4IDQ5-C",
        "colab_type": "code",
        "colab": {}
      },
      "source": [
        "#importando o dataset\n",
        "from sklearn.datasets import load_wine\n",
        "data = load_wine()"
      ],
      "execution_count": null,
      "outputs": []
    },
    {
      "cell_type": "code",
      "metadata": {
        "id": "l7DmHD-0Q6A8",
        "colab_type": "code",
        "colab": {}
      },
      "source": [
        "#acessando os dados\n",
        "X = data.data[:,:] \n",
        "y = data.target #apresenta as classes "
      ],
      "execution_count": null,
      "outputs": []
    },
    {
      "cell_type": "code",
      "metadata": {
        "id": "fGCPoB4OQ6FJ",
        "colab_type": "code",
        "colab": {}
      },
      "source": [
        "#separacao dos dados para treinamento e teste do algoritmo\n",
        "from sklearn.model_selection import train_test_split\n",
        "X_train,X_test,y_train,y_test = train_test_split(X,y,test_size = 0.33, random_state = 42)"
      ],
      "execution_count": null,
      "outputs": []
    },
    {
      "cell_type": "code",
      "metadata": {
        "id": "xyNj91h6Q6HN",
        "colab_type": "code",
        "colab": {}
      },
      "source": [
        "#utilizando o algoritmo Random Forests\n",
        "#treinamento do modelo\n",
        "from sklearn.ensemble import RandomForestClassifier\n",
        "#instanciando o modelo\n",
        "rfc = RandomForestClassifier()\n",
        "rfc.fit(X_train,y_train)\n",
        "rfc_ypred = rfc.predict(X_test)"
      ],
      "execution_count": null,
      "outputs": []
    },
    {
      "cell_type": "code",
      "metadata": {
        "id": "QKL7pBrXQ6KZ",
        "colab_type": "code",
        "colab": {}
      },
      "source": [
        "#metricas de qualidade \n",
        "#accuracy, recall, precision\n",
        "from sklearn.metrics import accuracy_score,recall_score,precision_score\n",
        "rfc_accuracy = round(accuracy_score(y_test,rfc_ypred),4)\n",
        "rfc_recall = round(recall_score(y_test,rfc_ypred,average='weighted'),4)\n",
        "rfc_precision = round(precision_score(y_test,rfc_ypred,average = 'weighted'),4)"
      ],
      "execution_count": null,
      "outputs": []
    },
    {
      "cell_type": "code",
      "metadata": {
        "id": "cDcNwienQ6Nw",
        "colab_type": "code",
        "colab": {}
      },
      "source": [
        "#utilizando o algoritmo KNN\n",
        "from sklearn.neighbors import KNeighborsClassifier\n",
        "knn = KNeighborsClassifier(n_neighbors=3)\n",
        "knn.fit(X_train,y_train)\n",
        "knn_ypred = knn.predict(X_test)"
      ],
      "execution_count": null,
      "outputs": []
    },
    {
      "cell_type": "code",
      "metadata": {
        "id": "2RU5R8SDV0G6",
        "colab_type": "code",
        "colab": {}
      },
      "source": [
        "#metricas de qualidade\n",
        "knn_accuracy = round(accuracy_score(y_test,knn_ypred),4)\n",
        "knn_recall = round(recall_score(y_test,knn_ypred,average = 'weighted'),4)\n",
        "knn_precision = round(precision_score(y_test,knn_ypred,average = 'weighted'),4)"
      ],
      "execution_count": null,
      "outputs": []
    },
    {
      "cell_type": "code",
      "metadata": {
        "id": "zGBBiYbHV0Kh",
        "colab_type": "code",
        "colab": {
          "base_uri": "https://localhost:8080/",
          "height": 102
        },
        "outputId": "2ef7460d-7f84-4e47-e27c-9ef60e270944"
      },
      "source": [
        "#apresentacao dos resultados\n",
        "print(\"Random Forest x KNN\")\n",
        "print(\"Classes: {}\".format(data.target_names))\n",
        "print(\"Acurácia: {} x {}\".format(rfc_accuracy,knn_accuracy))\n",
        "print(\"Recall: {} x {}\".format(rfc_recall,knn_recall))\n",
        "print(\"Precisão: {} x {}\".format(rfc_precision,knn_precision))"
      ],
      "execution_count": null,
      "outputs": [
        {
          "output_type": "stream",
          "text": [
            "Random Forest x KNN\n",
            "Classes: ['class_0' 'class_1' 'class_2']\n",
            "Acurácia: 1.0 x 0.6949\n",
            "Recall: 1.0 x 0.6949\n",
            "Precisão: 1.0 x 0.6982\n"
          ],
          "name": "stdout"
        }
      ]
    },
    {
      "cell_type": "markdown",
      "metadata": {
        "id": "yYCw13z0UUT6",
        "colab_type": "text"
      },
      "source": [
        "Validação cruzada"
      ]
    },
    {
      "cell_type": "code",
      "metadata": {
        "id": "ExwN7fX5UW-I",
        "colab_type": "code",
        "colab": {}
      },
      "source": [
        "from sklearn.model_selection import cross_val_score"
      ],
      "execution_count": null,
      "outputs": []
    },
    {
      "cell_type": "code",
      "metadata": {
        "id": "gMHwUc1XUswg",
        "colab_type": "code",
        "colab": {}
      },
      "source": [
        "rfc_cross = cross_val_score(rfc,X,y)\n",
        "knn_cross = cross_val_score(knn,X,y)"
      ],
      "execution_count": null,
      "outputs": []
    },
    {
      "cell_type": "code",
      "metadata": {
        "id": "aN41yFsIUst4",
        "colab_type": "code",
        "colab": {
          "base_uri": "https://localhost:8080/",
          "height": 51
        },
        "outputId": "cdb61bac-f306-42dc-8ad8-f3f8a5514c1e"
      },
      "source": [
        "print(\"validação cruzada Random Forest: {}\".format(rfc_cross))\n",
        "print(\"validação cruzada KNN:           {}\".format(knn_cross))"
      ],
      "execution_count": null,
      "outputs": [
        {
          "output_type": "stream",
          "text": [
            "validação cruzada Random Forest: [0.97222222 0.94444444 0.97222222 0.97142857 1.        ]\n",
            "validação cruzada KNN:           [0.63888889 0.69444444 0.66666667 0.65714286 0.85714286]\n"
          ],
          "name": "stdout"
        }
      ]
    },
    {
      "cell_type": "code",
      "metadata": {
        "id": "B-sjEGI4Vesp",
        "colab_type": "code",
        "colab": {
          "base_uri": "https://localhost:8080/",
          "height": 34
        },
        "outputId": "68558eca-f6ac-45f4-a223-81bebbca8181"
      },
      "source": [
        "#media dos resultados obtidos na validacao cruzada\n",
        "#random Forest \n",
        "sum_rfc_cross = 0\n",
        "for val_rfc in rfc_cross:\n",
        "  sum_rfc_cross+=val_rfc\n",
        "print(\"Resultado para Random forest: {}\".format(sum_rfc_cross/len(rfc_cross)))"
      ],
      "execution_count": null,
      "outputs": [
        {
          "output_type": "stream",
          "text": [
            "Resultado para Random forest: 0.9720634920634922\n"
          ],
          "name": "stdout"
        }
      ]
    },
    {
      "cell_type": "code",
      "metadata": {
        "id": "bt3Eprg8VfwV",
        "colab_type": "code",
        "colab": {
          "base_uri": "https://localhost:8080/",
          "height": 34
        },
        "outputId": "ccde3dcf-996e-4709-9ffc-4c6936d899f0"
      },
      "source": [
        "#KNN\n",
        "sum_knn_cross = 0\n",
        "for val_knn in knn_cross:\n",
        "  sum_knn_cross+=val_knn\n",
        "print(\"Resultado para K-Nearest Neighbor: {}\".format(sum_knn_cross/len(knn_cross)))"
      ],
      "execution_count": null,
      "outputs": [
        {
          "output_type": "stream",
          "text": [
            "Resultado para K-Nearest Neighbor: 0.7028571428571428\n"
          ],
          "name": "stdout"
        }
      ]
    }
  ]
}