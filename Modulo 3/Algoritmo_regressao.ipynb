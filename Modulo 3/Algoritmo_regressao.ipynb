{
  "nbformat": 4,
  "nbformat_minor": 0,
  "metadata": {
    "colab": {
      "name": "Algoritmo_regressao.ipynb",
      "provenance": [],
      "collapsed_sections": []
    },
    "kernelspec": {
      "name": "python3",
      "display_name": "Python 3"
    }
  },
  "cells": [
    {
      "cell_type": "code",
      "metadata": {
        "id": "uRzxm1a4U-NI",
        "colab_type": "code",
        "colab": {}
      },
      "source": [
        "#sklearn.datasets.load_diabetes\n",
        "#Utilização de algoritmo de regressão e suas principais metricas de qualidade"
      ],
      "execution_count": 1,
      "outputs": []
    },
    {
      "cell_type": "code",
      "metadata": {
        "id": "eCrAPP9gWBKx",
        "colab_type": "code",
        "colab": {}
      },
      "source": [
        "#bibliotecas utilizadas\n",
        "import matplotlib.pyplot as plt\n",
        "import numpy as np\n",
        "from sklearn.model_selection import train_test_split\n",
        "from sklearn.metrics import mean_squared_error, median_absolute_error\n",
        "from sklearn import datasets\n",
        "from sklearn.linear_model import LinearRegression"
      ],
      "execution_count": 2,
      "outputs": []
    },
    {
      "cell_type": "code",
      "metadata": {
        "id": "fpAuGooEXWa4",
        "colab_type": "code",
        "colab": {}
      },
      "source": [
        "#carregando o dataset de acordo com a documentação do scikitlearn\n",
        "X,y = datasets.load_diabetes(return_X_y=True)"
      ],
      "execution_count": 3,
      "outputs": []
    },
    {
      "cell_type": "code",
      "metadata": {
        "id": "oXEP4YbRXWXi",
        "colab_type": "code",
        "colab": {}
      },
      "source": [
        "#separacao de uma feature para analise\n",
        "x = X[:,np.newaxis,2]"
      ],
      "execution_count": 4,
      "outputs": []
    },
    {
      "cell_type": "code",
      "metadata": {
        "id": "LpGYW9qEXWU6",
        "colab_type": "code",
        "colab": {}
      },
      "source": [
        "#separacao dos dados para teste e treino\n",
        "X_train,X_test,y_train,y_test = train_test_split(x,y,test_size = 0.2, random_state=42)"
      ],
      "execution_count": 9,
      "outputs": []
    },
    {
      "cell_type": "code",
      "metadata": {
        "id": "8FtGR5bxXWST",
        "colab_type": "code",
        "colab": {}
      },
      "source": [
        "#aplicando a regressao linear\n",
        "reg = LinearRegression() #instanciando o modelo\n",
        "reg.fit(X_train,y_train) #treinamento do modelo\n",
        "y_pred = reg.predict(X_test) #testando o modelo"
      ],
      "execution_count": 10,
      "outputs": []
    },
    {
      "cell_type": "code",
      "metadata": {
        "id": "aFZBwDJsbWQZ",
        "colab_type": "code",
        "colab": {
          "base_uri": "https://localhost:8080/",
          "height": 51
        },
        "outputId": "7fb1517f-887f-4bee-b814-77a5d1874c39"
      },
      "source": [
        "#metricas de qualidade\n",
        "print(\"Erro médio quadrático: %.2f\" % mean_squared_error(y_test,y_pred))\n",
        "print(\"Erro mediano absoluto: %.2f\" % median_absolute_error(y_test,y_pred))"
      ],
      "execution_count": 11,
      "outputs": [
        {
          "output_type": "stream",
          "text": [
            "Erro médio quadrático: 4061.83\n",
            "Erro mediano absoluto: 43.51\n"
          ],
          "name": "stdout"
        }
      ]
    },
    {
      "cell_type": "code",
      "metadata": {
        "id": "jsuU7sSfcUJw",
        "colab_type": "code",
        "colab": {
          "base_uri": "https://localhost:8080/",
          "height": 281
        },
        "outputId": "33c9bc0a-fd7a-4d3b-91b7-7295951a89af"
      },
      "source": [
        "#analisando graficamente os resultados obtidos\n",
        "plt.scatter(X_test,y_test,color='blue')\n",
        "plt.plot(X_test,y_pred, color = 'black',linewidth=3)\n",
        "plt.xticks()\n",
        "plt.yticks()\n",
        "plt.title(\"Linear Regression\")\n",
        "plt.show()"
      ],
      "execution_count": 12,
      "outputs": [
        {
          "output_type": "display_data",
          "data": {
            "image/png": "[encoded data removed]",
            "text/plain": [
              "<Figure size 432x288 with 1 Axes>"
            ]
          },
          "metadata": {
            "tags": [],
            "needs_background": "light"
          }
        }
      ]
    }
  ]
}